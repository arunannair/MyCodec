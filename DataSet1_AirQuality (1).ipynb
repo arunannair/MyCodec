{
 "cells": [
  {
   "cell_type": "code",
   "execution_count": 17,
   "metadata": {
    "collapsed": true
   },
   "outputs": [],
   "source": [
    "#importing the modules\n",
    "import numpy as np\n",
    "import pandas as pd\n",
    "import seaborn as sns\n",
    "import matplotlib.pyplot as plt\n",
    "from matplotlib import style\n",
    "from sklearn import preprocessing, cross_validation, svm\n",
    "from sklearn.linear_model import LinearRegression\n",
    "from sklearn.metrics import mean_squared_error"
   ]
  },
  {
   "cell_type": "code",
   "execution_count": 18,
   "metadata": {
    "collapsed": true
   },
   "outputs": [],
   "source": [
    "# Import train and test data\n",
    "field_data = pd.DataFrame.from_csv('C:\\\\Users\\\\kmjn026\\\\Desktop\\\\Data_MLT\\\\AirQualityUCI\\\\AirQualityUCI.csv',index_col = None, encoding='utf-8')"
   ]
  },
  {
   "cell_type": "code",
   "execution_count": 19,
   "metadata": {},
   "outputs": [
    {
     "name": "stdout",
     "output_type": "stream",
     "text": [
      "      Time  PT08.S2(NMHC)     T    RH      AH  C6H6(GT)\n",
      "0       18           1046  13.6  48.9  0.7578      11.9\n",
      "1       19            955  13.3  47.7  0.7255       9.4\n",
      "2       20            939  11.9  54.0  0.7502       9.0\n",
      "3       21            948  11.0  60.0  0.7867       9.2\n",
      "4       22            836  11.2  59.6  0.7888       6.5\n",
      "5       23            750  11.2  59.2  0.7848       4.7\n",
      "6        0            690  11.3  56.8  0.7603       3.6\n",
      "7        1            672  10.7  60.0  0.7702       3.3\n",
      "8        2            609  10.7  59.7  0.7648       2.3\n",
      "9        3            561  10.3  60.2  0.7517       1.7\n",
      "10       4            527  10.1  60.5  0.7465       1.3\n",
      "11       5            512  11.0  56.2  0.7366       1.1\n",
      "12       6            553  10.5  58.1  0.7353       1.6\n",
      "13       7            667  10.2  59.6  0.7417       3.2\n",
      "14       8            900  10.8  57.4  0.7408       8.0\n",
      "15       9            960  10.5  60.6  0.7691       9.5\n",
      "16      10            827  10.8  58.4  0.7552       6.3\n",
      "17      11            762  10.5  57.9  0.7352       5.0\n",
      "18      12            774   9.5  66.8  0.7951       5.2\n",
      "19      13            869   8.3  76.4  0.8393       7.3\n",
      "20      14           1034   8.0  81.1  0.8736      11.5\n",
      "21      15            933   8.3  79.8  0.8778       8.8\n",
      "22      16            912   9.7  71.2  0.8569       8.3\n",
      "23      17           1020   9.8  67.6  0.8185      11.2\n",
      "24      18           1319  10.3  64.2  0.8065      20.8\n",
      "25      19           1488   9.7  69.3  0.8319      27.4\n",
      "26      20           1404   9.6  67.8  0.8133      24.0\n",
      "27      21           1076   9.1  64.0  0.7419      12.8\n",
      "28      22            749   8.2  63.4  0.6905       4.7\n",
      "29      23            629   8.2  60.8  0.6657       2.6\n",
      "...    ...            ...   ...   ...     ...       ...\n",
      "9327     9            715  17.8  30.7  0.6205       4.1\n",
      "9328    10            677  21.1  23.7  0.5875       3.4\n",
      "9329    11            779  24.0  19.3  0.5673       5.3\n",
      "9330    12            781  26.5  16.4  0.5594       5.3\n",
      "9331    13            701  28.7  13.7  0.5302       3.8\n",
      "9332    14            722  28.5  13.1  0.5002       4.2\n",
      "9333    15            783  30.0  11.1  0.4624       5.4\n",
      "9334    16            826  29.4  10.4  0.4192       6.3\n",
      "9335    17            817  28.9   9.9  0.3866       6.1\n",
      "9336    18            743  22.8  21.7  0.5945       4.6\n",
      "9337    19           1018  19.9  33.0  0.7608      11.1\n",
      "9338    20            894  17.5  40.7  0.8073       7.9\n",
      "9339    21            812  16.4  46.6  0.8642       6.0\n",
      "9340    22            803  15.5  49.0  0.8579       5.8\n",
      "9341    23            769  14.3  52.5  0.8497       5.1\n",
      "9342     0            683  14.2  51.4  0.8275       3.5\n",
      "9343     1            579  13.8  51.2  0.8058       1.9\n",
      "9344     2            544  12.1  56.3  0.7927       1.5\n",
      "9345     3            508  11.3  58.9  0.7888       1.1\n",
      "9346     4            478  11.8  56.0  0.7743       0.8\n",
      "9347     5            528  10.4  59.9  0.7550       1.3\n",
      "9348     6            730   9.5  63.1  0.7531       4.4\n",
      "9349     7           1221   9.7  61.9  0.7446      17.4\n",
      "9350     8           1362  13.5  48.9  0.7553      22.4\n",
      "9351     9           1102  18.2  36.3  0.7487      13.6\n",
      "9352    10           1101  21.9  29.3  0.7568      13.5\n",
      "9353    11           1027  24.3  23.7  0.7119      11.4\n",
      "9354    12           1063  26.9  18.3  0.6406      12.4\n",
      "9355    13            961  28.3  13.5  0.5139       9.5\n",
      "9356    14           1047  28.5  13.1  0.5028      11.9\n",
      "\n",
      "[9357 rows x 6 columns]\n"
     ]
    }
   ],
   "source": [
    "#Selecting required data features\n",
    "\n",
    "field_data1 = field_data[['Time','PT08.S2(NMHC)','T','RH','AH','C6H6(GT)']]\n",
    "print(field_data1)\n",
    "field_data = field_data1\n",
    "field_data1.fillna(value=-200, inplace=True)\n",
    "\n",
    "#Dealing with missing data\n",
    "field_data.fillna(value=-200, inplace=True)"
   ]
  },
  {
   "cell_type": "code",
   "execution_count": 20,
   "metadata": {},
   "outputs": [],
   "source": [
    "#Selecting Label out of features\n",
    "\n",
    "forecast_col = 'C6H6(GT)'\n",
    "field_data['label'] = field_data[forecast_col]\n",
    "field_data = field_data.drop(['C6H6(GT)'],1)"
   ]
  },
  {
   "cell_type": "code",
   "execution_count": 21,
   "metadata": {},
   "outputs": [],
   "source": [
    "#Checking the feature label relationship \n",
    "\n",
    "sns.pairplot(field_data1, x_vars =['Time','PT08.S2(NMHC)','T','RH','AH'],y_vars = 'C6H6(GT)')\n",
    "plt.show()"
   ]
  },
  {
   "cell_type": "code",
   "execution_count": 10,
   "metadata": {
    "collapsed": true
   },
   "outputs": [],
   "source": [
    "# Making feature set a numpy array for scikt learn\n",
    "\n",
    "X = np.array(field_data.drop(['label'],1))\n",
    "X = preprocessing.scale(X)\n",
    "y = np.array(field_data['label'])"
   ]
  },
  {
   "cell_type": "code",
   "execution_count": 22,
   "metadata": {},
   "outputs": [
    {
     "name": "stdout",
     "output_type": "stream",
     "text": [
      "(6549L, 5L)\n",
      "(6549L,)\n",
      "(2808L, 5L)\n",
      "(2808L,)\n"
     ]
    }
   ],
   "source": [
    "#Preparing Traing and test set data out of data set\n",
    "\n",
    "X_train,X_test,y_train,y_test = cross_validation.train_test_split(X,y,test_size=.3)\n",
    "print X_train.shape\n",
    "print y_train.shape\n",
    "print X_test.shape\n",
    "print y_test.shape"
   ]
  },
  {
   "cell_type": "code",
   "execution_count": 23,
   "metadata": {},
   "outputs": [
    {
     "data": {
      "text/plain": [
       "LinearRegression(copy_X=True, fit_intercept=True, n_jobs=-1, normalize=False)"
      ]
     },
     "execution_count": 23,
     "metadata": {},
     "output_type": "execute_result"
    }
   ],
   "source": [
    "#Training the selected Algorithm for the module\n",
    "\n",
    "Algo = LinearRegression(n_jobs=-1)\n",
    "Algo.fit(X_train,y_train)"
   ]
  },
  {
   "cell_type": "code",
   "execution_count": 24,
   "metadata": {},
   "outputs": [
    {
     "name": "stdout",
     "output_type": "stream",
     "text": [
      "0.998976781932\n"
     ]
    }
   ],
   "source": [
    "#Cheching accurcy/ testing the model\n",
    "\n",
    "confidence = Algo.score(X_test,y_test)\n",
    "print confidence"
   ]
  },
  {
   "cell_type": "code",
   "execution_count": 223,
   "metadata": {
    "collapsed": true
   },
   "outputs": [],
   "source": [
    "#Making predection using model\n",
    "y_pred = Algo.predict(X_test)\n",
    "forecast_col1 = pd.DataFrame(Algo.predict(X_test))\n",
    "field_data['predictin_val']= forecast_col1\n",
    "#print field_data.head(2900)\n"
   ]
  },
  {
   "cell_type": "code",
   "execution_count": 224,
   "metadata": {},
   "outputs": [
    {
     "name": "stdout",
     "output_type": "stream",
     "text": [
      "1.86675109019\n",
      "[ -0.27614483   9.6277249   -3.72597806  -1.06005653  39.16827362]\n"
     ]
    }
   ],
   "source": [
    "#Validating Model / Tuning the model\n",
    "\n",
    "print Algo.intercept_\n",
    "print Algo.coef_"
   ]
  },
  {
   "cell_type": "code",
   "execution_count": 225,
   "metadata": {},
   "outputs": [
    {
     "name": "stdout",
     "output_type": "stream",
     "text": [
      "[('Time', -0.27614483212511626), ('PT08.S2(NMHC)', 9.6277249039964587), ('T', -3.725978058959118), ('RH', -1.0600565302777927), ('AH', 39.168273624645821)]\n"
     ]
    }
   ],
   "source": [
    "h = ['Time','PT08.S2(NMHC)','T','RH','AH']\n",
    "print zip(h,Algo.coef_)"
   ]
  },
  {
   "cell_type": "code",
   "execution_count": 226,
   "metadata": {},
   "outputs": [
    {
     "name": "stdout",
     "output_type": "stream",
     "text": [
      "1.30161843177\n"
     ]
    }
   ],
   "source": [
    "#Error evaluvation MAE MSE RMSE\n",
    "print np.sqrt(mean_squared_error(y_test,y_pred))"
   ]
  },
  {
   "cell_type": "code",
   "execution_count": null,
   "metadata": {
    "collapsed": true
   },
   "outputs": [],
   "source": []
  },
  {
   "cell_type": "code",
   "execution_count": null,
   "metadata": {
    "collapsed": true
   },
   "outputs": [],
   "source": []
  },
  {
   "cell_type": "code",
   "execution_count": null,
   "metadata": {
    "collapsed": true
   },
   "outputs": [],
   "source": []
  }
 ],
 "metadata": {
  "kernelspec": {
   "display_name": "Python 2",
   "language": "python",
   "name": "python2"
  },
  "language_info": {
   "codemirror_mode": {
    "name": "ipython",
    "version": 2
   },
   "file_extension": ".py",
   "mimetype": "text/x-python",
   "name": "python",
   "nbconvert_exporter": "python",
   "pygments_lexer": "ipython2",
   "version": "2.7.13"
  }
 },
 "nbformat": 4,
 "nbformat_minor": 2
}
