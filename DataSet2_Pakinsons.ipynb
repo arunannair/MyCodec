{
 "cells": [
  {
   "cell_type": "code",
   "execution_count": 178,
   "metadata": {
    "collapsed": true
   },
   "outputs": [],
   "source": [
    "#importing the modules\n",
    "import numpy as np\n",
    "import pandas as pd\n",
    "import seaborn as sns\n",
    "import matplotlib.pyplot as plt\n",
    "from matplotlib import style\n",
    "from sklearn import preprocessing, cross_validation, svm\n",
    "from sklearn.linear_model import LinearRegression\n",
    "from sklearn.metrics import mean_squared_error"
   ]
  },
  {
   "cell_type": "code",
   "execution_count": 179,
   "metadata": {
    "collapsed": true
   },
   "outputs": [],
   "source": [
    "# Import train and test data\n",
    "sample_data = pd.DataFrame.from_csv('C:\\\\Users\\\\kmjn026\\\\Desktop\\\\Data_MLT\\\\AirQualityUCI\\\\parkinsons_updrs.csv',index_col = None, encoding='utf-8')"
   ]
  },
  {
   "cell_type": "code",
   "execution_count": 180,
   "metadata": {},
   "outputs": [],
   "source": [
    "#Selecting required data features\n",
    "\n",
    "sample_data1 = field_data[['Shimmer','Shimmer(dB)','Shimmer:APQ3','Shimmer:APQ5','Shimmer:APQ11','Shimmer:DDA','total_UPDRS']]\n",
    "sample_data = sample_data1\n",
    "sample_data1.fillna(value=-200, inplace=True)\n",
    "\n",
    "#Dealing with missing data\n",
    "sample_data.fillna(value=-200, inplace=True)"
   ]
  },
  {
   "cell_type": "code",
   "execution_count": 181,
   "metadata": {},
   "outputs": [
    {
     "name": "stderr",
     "output_type": "stream",
     "text": [
      "C:\\Anaconda2\\lib\\site-packages\\ipykernel_launcher.py:4: SettingWithCopyWarning: \n",
      "A value is trying to be set on a copy of a slice from a DataFrame.\n",
      "Try using .loc[row_indexer,col_indexer] = value instead\n",
      "\n",
      "See the caveats in the documentation: http://pandas.pydata.org/pandas-docs/stable/indexing.html#indexing-view-versus-copy\n",
      "  after removing the cwd from sys.path.\n"
     ]
    }
   ],
   "source": [
    "#Selecting Label out of features\n",
    "\n",
    "forecast_col = 'total_UPDRS'\n",
    "sample_data['label'] = sample_data[forecast_col]\n",
    "sample_data = sample_data.drop(['total_UPDRS'],1)"
   ]
  },
  {
   "cell_type": "code",
   "execution_count": 182,
   "metadata": {},
   "outputs": [],
   "source": [
    "#Checking the feature label relationship \n",
    "\n",
    "sns.pairplot(sample_data1, x_vars =['Shimmer','Shimmer(dB)','Shimmer:APQ3','Shimmer:APQ5','Shimmer:APQ11','Shimmer:DDA'],y_vars = 'total_UPDRS')\n",
    "plt.show()"
   ]
  },
  {
   "cell_type": "code",
   "execution_count": 183,
   "metadata": {
    "collapsed": true
   },
   "outputs": [],
   "source": [
    "# Making feature set a numpy array for scikt learn\n",
    "\n",
    "X = np.array(sample_data.drop(['label'],1))\n",
    "X = preprocessing.scale(X)\n",
    "y = np.array(sample_data['label'])"
   ]
  },
  {
   "cell_type": "code",
   "execution_count": 184,
   "metadata": {},
   "outputs": [
    {
     "name": "stdout",
     "output_type": "stream",
     "text": [
      "(3525L, 6L)\n",
      "(3525L,)\n",
      "(2350L, 6L)\n",
      "(2350L,)\n"
     ]
    }
   ],
   "source": [
    "#Preparing Traing and test set data out of data set\n",
    "\n",
    "X_train,X_test,y_train,y_test = cross_validation.train_test_split(X,y,test_size=.4)\n",
    "print X_train.shape\n",
    "print y_train.shape\n",
    "print X_test.shape\n",
    "print y_test.shape"
   ]
  },
  {
   "cell_type": "code",
   "execution_count": 185,
   "metadata": {},
   "outputs": [
    {
     "data": {
      "text/plain": [
       "LinearRegression(copy_X=True, fit_intercept=True, n_jobs=-1, normalize=False)"
      ]
     },
     "execution_count": 185,
     "metadata": {},
     "output_type": "execute_result"
    }
   ],
   "source": [
    "#Training the selected Algorithm for the module\n",
    "\n",
    "Algo = LinearRegression(n_jobs=-1)\n",
    "Algo.fit(X_train,y_train)"
   ]
  },
  {
   "cell_type": "code",
   "execution_count": 186,
   "metadata": {},
   "outputs": [
    {
     "name": "stdout",
     "output_type": "stream",
     "text": [
      "0.0151044958078\n"
     ]
    }
   ],
   "source": [
    "#Cheching accurcy/ testing the model\n",
    "\n",
    "confidence = Algo.score(X_test,y_test)\n",
    "print confidence"
   ]
  },
  {
   "cell_type": "code",
   "execution_count": 187,
   "metadata": {
    "collapsed": true
   },
   "outputs": [],
   "source": [
    "#Making predection using model\n",
    "y_pred = Algo.predict(X_test)\n",
    "forecast_col1 = pd.DataFrame(Algo.predict(X_test))\n",
    "sample_data['predictin_val']= forecast_col1\n",
    "#print field_data.head(2900)\n"
   ]
  },
  {
   "cell_type": "code",
   "execution_count": 188,
   "metadata": {},
   "outputs": [
    {
     "name": "stdout",
     "output_type": "stream",
     "text": [
      "29.0559859554\n",
      "[   3.66103503    0.54824523 -156.18070749   -5.61191536    3.70664092\n",
      "  155.19313676]\n"
     ]
    }
   ],
   "source": [
    "#Validating Model / Tuning the model\n",
    "\n",
    "print Algo.intercept_\n",
    "print Algo.coef_"
   ]
  },
  {
   "cell_type": "code",
   "execution_count": 189,
   "metadata": {},
   "outputs": [
    {
     "name": "stdout",
     "output_type": "stream",
     "text": [
      "[('NHR', 3.6610350329495853), ('HNR', 0.54824522810139764), ('RPDE', -156.18070749176391), ('DFA', -5.6119153645948225), ('PPE', 3.706640915194463)]\n"
     ]
    }
   ],
   "source": [
    "h = ['NHR','HNR','RPDE','DFA','PPE']\n",
    "print zip(h,Algo.coef_)"
   ]
  },
  {
   "cell_type": "code",
   "execution_count": 190,
   "metadata": {},
   "outputs": [
    {
     "name": "stdout",
     "output_type": "stream",
     "text": [
      "10.6318738306\n"
     ]
    }
   ],
   "source": [
    "#Error evaluvation MAE MSE RMSE\n",
    "print np.sqrt(mean_squared_error(y_test,y_pred))"
   ]
  },
  {
   "cell_type": "code",
   "execution_count": null,
   "metadata": {
    "collapsed": true
   },
   "outputs": [],
   "source": []
  },
  {
   "cell_type": "code",
   "execution_count": null,
   "metadata": {
    "collapsed": true
   },
   "outputs": [],
   "source": []
  }
 ],
 "metadata": {
  "kernelspec": {
   "display_name": "Python 2",
   "language": "python",
   "name": "python2"
  },
  "language_info": {
   "codemirror_mode": {
    "name": "ipython",
    "version": 2
   },
   "file_extension": ".py",
   "mimetype": "text/x-python",
   "name": "python",
   "nbconvert_exporter": "python",
   "pygments_lexer": "ipython2",
   "version": "2.7.13"
  }
 },
 "nbformat": 4,
 "nbformat_minor": 2
}
